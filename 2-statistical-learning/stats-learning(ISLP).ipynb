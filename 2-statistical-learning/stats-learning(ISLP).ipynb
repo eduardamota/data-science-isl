{
 "cells": [
  {
   "cell_type": "markdown",
   "id": "721bfec0",
   "metadata": {},
   "source": [
    "## Prediction "
   ]
  },
  {
   "cell_type": "markdown",
   "id": "f6b7f779",
   "metadata": {},
   "source": [
    "Em muitas situações o conjunto de inputs \"X\" estão disponiveis, mas os outputs \"Y\" não são tão fáceis de serem obtidos. Em um conjunto, desde que a média dos erros se aproximem de zero podemos prever Y usando:\n",
    "\n",
    "- ^y = ˆf(X)\n",
    "\n",
    "O f chapeu é o valor estimado de f e y chapeu é o resultado da previsão de Y. A precisão de Yˆ como uma previsão para Y depende de duas quantidades, erro redutível e erro irredutível.\n",
    "\n",
    "- E(Y − Yˆ )2, quadrado das diferenças entre a previsão e o valor atual."
   ]
  },
  {
   "cell_type": "markdown",
   "id": "e2e9621a",
   "metadata": {},
   "source": [
    "## Inference "
   ]
  },
  {
   "cell_type": "markdown",
   "id": "3fea3329",
   "metadata": {},
   "source": [
    "A inferência refere-se ao processo de extrair conclusões ou deduções sobre uma população ou um conjunto maior de dados com base em uma amostra menor desse conjunto. Em outras palavras, é o ato de tirar informações ou conhecimentos gerais com base em dados específicos que temos disponíveis."
   ]
  },
  {
   "cell_type": "markdown",
   "id": "a883115c",
   "metadata": {},
   "source": [
    "Para encontrar a função vamos utilizar dois métodos o paramétrico ou não paramétrico.\n",
    "\n",
    "Os métodos paramétricos envolvem uma abordagem baseada em modelo de duas etapas:\n",
    "- Assumimos um formato para função, por exemplos a função linear f(X) = β0 + β1X1 + β2X2 + ··· + βpXp.\n",
    "- Depois do modelo selecionado, nós precisamo de um procedimento que use o dados de treinamento para ajustar ou treinar o modelo. No caso dos modelos lineares, precisamos encontrar os parâmetros β0, β1,..., βp.\n",
    "- O método mais comum para ajustar o modelo é o método dos mínimos quadrados\n",
    "\n",
    "\n",
    "métodos on-paramétricos não fazem suposições explícitas sobre a forma funcional de f. Em vez disso, eles buscam uma estimativa de f que se aproxime o máximo possível dos pontos de dados\n"
   ]
  },
  {
   "cell_type": "markdown",
   "id": "7a8893a1",
   "metadata": {},
   "source": [
    "## Supervised Versus Unsupervised Learning"
   ]
  },
  {
   "cell_type": "markdown",
   "id": "3aa4306a",
   "metadata": {},
   "source": [
    "Aprendizado Supervisionado: Para cada observação da medição preditora temos uma resposta associada. Vamos ajustar um modelo que consiga relacionar a reposta com os preditores;\n",
    "\n",
    "Não Supervisionado: observamos um vetor de medidas xi, mas nenhuma resposta associada yi. Não é possível ajustar um modelo de regressão linear, pois não há variável de resposta para prever."
   ]
  },
  {
   "cell_type": "markdown",
   "id": "52d78214",
   "metadata": {},
   "source": [
    "## Regression Versus Classifcation Problems"
   ]
  },
  {
   "cell_type": "markdown",
   "id": "ac0910cf",
   "metadata": {},
   "source": [
    "Sabemos que as variáveis podem ser classificadas como quantitativas e qualitativas. Onde as variável quantitativas vão retornar valores numéricos, enquanto as qualitativas assumem valores em uma das K diferentes classes ou categorias.\n",
    "\n",
    "Geralmente usamos regressão para variáveis quantitativas e as qualitativas usamos classificação."
   ]
  },
  {
   "cell_type": "markdown",
   "id": "b44901a2",
   "metadata": {},
   "source": [
    "## Assessing Model Accuracy "
   ]
  },
  {
   "cell_type": "markdown",
   "id": "e507cae9",
   "metadata": {},
   "source": [
    "Measuring the Quality of Fit:\n",
    "\n",
    "Para avaliar a perfomance estatística em um determinado conjunto de dados, precisamos de um caminho para medir quão bem nossas predições estão correspondendo aos dados observados.Ou seja, precisamos quantificar até que ponto o valor de resposta previsto para uma determinada observação está próximo do valor de resposta real para essa observação. Em regressão o valor mais utilizado é o erro quadrático médio, dados por:"
   ]
  },
  {
   "cell_type": "code",
   "execution_count": 4,
   "id": "cff451e8",
   "metadata": {},
   "outputs": [
    {
     "data": {
      "image/png": "[encoded data removed]",
      "text/plain": [
       "<PIL.GifImagePlugin.GifImageFile image mode=P size=638x176>"
      ]
     },
     "execution_count": 4,
     "metadata": {},
     "output_type": "execute_result"
    }
   ],
   "source": [
    "from PIL import Image\n",
    "MSE = Image.open('mse.png')\n",
    "MSE"
   ]
  },
  {
   "cell_type": "markdown",
   "id": "13f2d444",
   "metadata": {},
   "source": [
    "~y é a predição que se dá para a i-ésima observação.O MSE será pequeno se as respostas previstas estiverem muito próximas das respostas verdadeiras e será grande se, para algumas das observações, as respostas previstas e verdadeiras diferirem substancialmente. No final queremo escolher um modelo com menor MSE possível.\n",
    "Em outras palavras, teste MSE se tivéssemos um grande número de observações de teste, poderíamos calcular o erro de previsão médio quadrado para essas observações de teste \n",
    "- [Ave(y0 − ˆf(x0))2]"
   ]
  },
  {
   "cell_type": "markdown",
   "id": "d8dda0ef",
   "metadata": {},
   "source": [
    "overftting acontece quando o modelo se ajusta muito bem aos dados de treinamento, mas não consegue generalizar bem para novos dados, resultando em um desempenho inferior quando testado com dados não vistos anteriormente. É como se o modelo estivesse \"memorizando\" os dados de treinamento em vez de aprender padrões gerais que possam ser aplicados a outros conjuntos de dados."
   ]
  },
  {
   "cell_type": "markdown",
   "id": "7ce7de3e",
   "metadata": {},
   "source": [
    "## The Bias-Variance Trade-Of  (A troca de viés-variância)"
   ]
  },
  {
   "cell_type": "markdown",
   "id": "5b3b70a6",
   "metadata": {},
   "source": [
    "O erro de teste esperado, que é o erro médio que obteríamos se testássemos repetidamente o modelo com um grande número de conjuntos de treinamento diferentes, pode ser decomposto em três partes fundamentais: a variância da previsão do modelo em um determinado ponto x0, o quadrado do viés da previsão nesse mesmo ponto e a variância do erro associado às previsões.\n",
    "\n",
    "Variância: A variância refere-se à quantidade pela qual a previsão do modelo (ˆf) mudaria se a estimássemos usando um conjunto de treinamento diferente. Um método com alta variância é muito sensível às variações nos dados de treinamento e pode produzir estimativas diferentes quando diferentes conjuntos de treinamento são usados. Modelos muito flexíveis tendem a ter alta variância, pois são capazes de se ajustar de perto aos dados de treinamento.\n",
    "\n",
    "Viés: O viés é a diferença entre a previsão média do modelo e o valor real da função que estamos tentando estimar (f(x0)). Um modelo com baixo viés é capaz de se ajustar bem aos dados e, em média, está próximo do valor verdadeiro da função. Modelos com viés mais alto tendem a ser menos flexíveis e podem não se ajustar bem aos dados de treinamento.\n",
    "\n",
    "Erro Irredutível: O termo Var(\") representa o erro irreduzível, que é a incerteza inerente aos dados que não pode ser reduzida por nenhum modelo. Isso ocorre porque sempre haverá fatores desconhecidos ou variáveis aleatórias que influenciam os dados e não podem ser capturados pelo modelo de aprendizado estatístico.\n",
    "\n",
    "A equação 2.7 nos diz que, para minimizar o erro de teste esperado, é necessário encontrar um equilíbrio entre baixa variância e baixo viés. Idealmente, queremos um modelo que tenha flexibilidade suficiente para se ajustar aos dados, mas que também não seja excessivamente sensível a pequenas mudanças nos dados de treinamento.\n",
    "\n",
    "Portanto, ao escolher um método de aprendizado estatístico, é importante considerar a relação entre viés e variância. Em geral, métodos mais flexíveis (com alta variância) podem se ajustar bem aos dados de treinamento, mas podem sofrer de overfitting, ou seja, ajustar-se em excesso aos dados e não generalizar bem para novos dados. Por outro lado, métodos com baixa variância podem ter um viés maior e não se ajustar tão bem aos dados, resultando em underfitting, ou seja, não capturam corretamente os padrões nos dados.\n",
    "\n",
    "Encontrar o equilíbrio certo entre viés e variância é um dos principais desafios ao construir modelos de aprendizado de máquina eficazes."
   ]
  },
  {
   "cell_type": "markdown",
   "id": "adbec5d0",
   "metadata": {},
   "source": [
    "## The Classifcation Setting"
   ]
  },
  {
   "cell_type": "markdown",
   "id": "cf29458e",
   "metadata": {},
   "source": [
    "Até o momento, nossa discussão sobre a precisão do modelo tem sido focada no cenário de regressão, onde estamos tentando prever valores numéricos contínuos. No entanto, muitos dos conceitos que encontramos, como o trade-off viés-variância, também se aplicam ao cenário de classificação, com algumas modificações devido ao fato de que agora os valores de saída (yi) não são mais quantitativos, mas sim qualitativos (por exemplo, categorias ou classes).\n",
    "\n",
    "Suponha que queremos estimar a função f com base em observações de treinamento como {(x1, y1), ..., (xn, yn)}, onde agora y1, ..., yn são variáveis qualitativas (por exemplo, rótulos de classe). A abordagem mais comum para quantificar a precisão da nossa estimativa ˆf é a taxa de erro de treinamento, que é a proporção de erros cometidos ao aplicar o modelo estimado (ˆf) aos dados de treinamento."
   ]
  },
  {
   "cell_type": "markdown",
   "id": "a94d79e7",
   "metadata": {},
   "source": [
    "### The Bayes Classifer"
   ]
  },
  {
   "cell_type": "markdown",
   "id": "230cadbd",
   "metadata": {},
   "source": [
    "O Classificador de Bayes é um classificador muito simples que, em média, minimiza a taxa de erro de teste Ave (I(y0 <> ^y0))). Ele atribui cada observação de teste à classe mais provável, dada suas características preditoras (variáveis de entrada). Em outras palavras, para uma observação de teste com vetor de preditores x0, o Classificador de Bayes a atribui à classe j para a qual a probabilidade condicional Pr(Y = j|X = x0) é maior.\n",
    "\n",
    "Vamos dar um exemplo para ilustrar isso:\n",
    "\n",
    "Suponha que estamos trabalhando em um problema de classificação binária, onde temos apenas duas classes possíveis, digamos \"classe 1\" e \"classe 2\". O Classificador de Bayes se baseia na seguinte regra:\n",
    "\n",
    "Se Pr(Y = 1|X = x0) > 0.5, então a observação x0 será atribuída à \"classe 1\".\n",
    "Se Pr(Y = 1|X = x0) ≤ 0.5, então a observação x0 será atribuída à \"classe 2\".\n",
    "Aqui, Pr(Y = 1|X = x0) representa a probabilidade condicional de que a observação pertença à \"classe 1\", dado o valor do vetor de preditores x0. Analogamente, Pr(Y = 2|X = x0) representa a probabilidade condicional de que a observação pertença à \"classe 2\", dado o valor de x0."
   ]
  },
  {
   "cell_type": "markdown",
   "id": "a6cfce4f",
   "metadata": {},
   "source": [
    "### K-Nearest Neighbors "
   ]
  },
  {
   "cell_type": "markdown",
   "id": "24df6773",
   "metadata": {},
   "source": [
    "O Classificador de Bayes é uma abordagem ideal, pois usa a distribuição condicional verdadeira das classes dada a entrada (preditora) para fazer previsões precisas. No entanto, na prática, muitas vezes não conhecemos essa distribuição condicional verdadeira, tornando impossível calcular o Classificador de Bayes diretamente. Assim, o Classificador de Bayes atua como um padrão de referência inalcançável para comparar outros métodos de classificação.\n",
    "\n",
    "Uma das abordagens mais comuns para classificação é a utilização do Classificador de K-Nearest Neighbors(KNN). O KNN é um método não paramétrico de aprendizado de máquina, o que significa que não faz suposições específicas sobre a forma da distribuição subjacente dos dados. Em vez disso, ele se baseia nos próprios dados para fazer previsões.\n",
    "\n",
    "A ideia básica por trás do KNN é que observações semelhantes tendem a pertencer à mesma classe. O método funciona da seguinte maneira:\n",
    "\n",
    "Dado um conjunto de treinamento contendo observações rotuladas com suas classes correspondentes, o KNN armazena essas observações como referências.\n",
    "\n",
    "Quando uma nova observação não rotulada precisa ser classificada, o KNN procura as K observações mais próximas com base em alguma métrica de distância (por exemplo, distância euclidiana) a partir dos dados de treinamento.\n",
    "\n",
    "A nova observação é então atribuída à classe mais frequente entre as K observações mais próximas.\n",
    "\n",
    "A principal base estatística que embasa o KNN é a ideia de que as observações semelhantes tendem a pertencer à mesma classe. A proximidade é determinada pela métrica de distância usada, que mede quão \"perto\" duas observações estão no espaço das características. Ao considerar as K observações mais próximas, o KNN usa a votação majoritária entre elas para determinar a classe da nova observação.\n",
    "\n",
    "Uma das vantagens do KNN é sua simplicidade e facilidade de implementação. Além disso, o KNN é flexível e pode lidar com problemas de classificação não lineares e multidimensionais. No entanto, o desempenho do KNN pode ser sensível à escolha do valor de K e à métrica de distância utilizada. Um valor muito pequeno de K pode tornar o modelo instável e sensível a ruídos nos dados, enquanto um valor muito grande pode levar a um viés alto e ignorar nuances nos dados.\n",
    "\n",
    "Em resumo, o KNN é um classificador popular e eficiente que se baseia na proximidade das observações para fazer previsões. Ele é amplamente utilizado em aplicações de classificação e é uma abordagem valiosa quando não conhecemos a distribuição condicional verdadeira das classes. A flexibilidade e simplicidade do KNN o tornam uma ferramenta útil em uma variedade de cenários de aprendizado de máquina."
   ]
  }
 ],
 "metadata": {
  "kernelspec": {
   "display_name": "Python 3 (ipykernel)",
   "language": "python",
   "name": "python3"
  },
  "language_info": {
   "codemirror_mode": {
    "name": "ipython",
    "version": 3
   },
   "file_extension": ".py",
   "mimetype": "text/x-python",
   "name": "python",
   "nbconvert_exporter": "python",
   "pygments_lexer": "ipython3",
   "version": "3.11.3"
  }
 },
 "nbformat": 4,
 "nbformat_minor": 5
}
