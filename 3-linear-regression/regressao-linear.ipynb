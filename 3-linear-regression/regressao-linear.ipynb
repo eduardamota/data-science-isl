{
 "cells": [
  {
   "cell_type": "markdown",
   "id": "5779c500",
   "metadata": {},
   "source": [
    "Nessa notebook vou utilizar os dados de propagandas apresentados no cap2 do livro. Queremos ter um plano de marketing baseado nos dados históricos que vai resultar no maior número de vendas.\n",
    "\n",
    "Essas são as principais perguntas para responder essa questão:\n",
    "\n",
    "- Existe algum relacionamento entre orçamento de publicidade e vendas?\n",
    "  - Devemos determinar se os dados fornecem evidências de uma associação entre gastos com publicidade e vendas. Se a evidência é fraca, então pode-se argumentar que nenhum dinheiro deve ser gasto em publicidade\n",
    "  \n",
    "  \n",
    "- Quão forte é o relacionamento entre orçamento de publicidade e vendas?\n",
    "   - Dado que existe um relacionamento entre as duas variáveis, queremos saber a força do relacionamento. Ou seja, o conhecimento do orçamento de venda traz muitas informações sobre vendas de produtos?\n",
    "    \n",
    "    \n",
    "- Quais das três midias está associada com as vendas?\n",
    "   - Todas as três, apenas duas ou apenas uma? Para trazer essa resposta precisamos encontrar um caminho para separar a contribuição individual de cada meio para as vendas quando gastamos dinheiro em todas as três midias.\n",
    "    \n",
    "    \n",
    "- Quão grande é a associação entre cada meio e as vendas?\n",
    "    - Para cada folar gasto em propaganda em um meio especifico, quanto as vendas aumentaram?Com que precisão podemos prever essa quantidade de aumento?\n",
    "    \n",
    "    \n",
    "- Qual precisão podemos prever as vendas futuras?\n",
    "    - Para qualquer nível de tv,radio ou newspaper, qual nossa previsão de vendas, qual a precisão de previsão?\n",
    "    \n",
    "    \n",
    "- Essa relação é linear?\n",
    "    - Se houver uma relação aproximadamente linear entre os gastos com publicidade nas várias mídias e as vendas, então a regressão linear é uma ferramenta apropriada. Caso contrário, ainda pode ser possível transformar o preditor ou a resposta para que a regressão linear possa ser usada.\n",
    "    \n",
    "    \n",
    "- Existe sinergia entre os meios publicitários?\n",
    "    - Talvez gastar US 50.000 em publicidade na televisão e US 50.000 em publicidade no rádio esteja associado a vendas mais altas do que alocar US 100.000 para a televisão ou para o rádio individualmente. Em marketing, isso é conhecido como efeito de sinergia, enquanto em estatística é chamado de efeito de interação."
   ]
  },
  {
   "cell_type": "markdown",
   "id": "6810c6c8",
   "metadata": {},
   "source": [
    "# Simple Linear Regression"
   ]
  },
  {
   "cell_type": "markdown",
   "id": "224bc751",
   "metadata": {},
   "source": [
    "A regressão linear simples faz jus ao seu nome: é uma abordagem de regressão linear simples muito direta para prever uma resposta quantitativa Y com base em uma única variável preditora X. Ela assume que existe aproximadamente uma relação linear entre X e Y . Matematicamente, podemos escrever esta relação linear:\n",
    "Y ≈ β0 + β1X"
   ]
  },
  {
   "cell_type": "markdown",
   "id": "40ba3d75",
   "metadata": {},
   "source": [
    "No exemplo citado anteriormente o nosso \"X\" poderia ser representado por TV e Y seriam as vendas. Logo nossa função seria algo desse tipo:\n",
    "sales ≈ β0 + β1TV"
   ]
  },
  {
   "cell_type": "markdown",
   "id": "d01702b8",
   "metadata": {},
   "source": [
    "**β0** é o intercepto e **β1** é a inclinação, eles são conhecidos como os coeficientes ou parâmetros do modelo. Um vez que usamos nossos dados de treinamento para estimar βˆ0 e βˆ1 como coeficientes do nosso modelo, podemos prever as vendas baseados em um valor especifico de TV: ˆ = βˆ0 + βˆ1x"
   ]
  },
  {
   "cell_type": "markdown",
   "id": "a37ae3e5",
   "metadata": {},
   "source": [
    "yˆ indica uma previsão de Y com base em X = x."
   ]
  },
  {
   "cell_type": "markdown",
   "id": "3dacc3ff",
   "metadata": {},
   "source": [
    "## Estimating the Coefcients"
   ]
  },
  {
   "cell_type": "markdown",
   "id": "60289510",
   "metadata": {},
   "source": [
    "Na prática os valores β0 e β1 são desconhecidos, antes de usarmos Y ≈ β0 + β1X para fazer previsões, precisamos usar os dados para prever os coeficientes.\n",
    "\n",
    "No nosso exemplo, teremos os seguintes pares:\n",
    "(x1, y1), (x2, y2),..., (xn, yn)\n",
    "Onde x represente orçamento de propaganda em TV e y o volume de vendas em 200 mercados. Nosso objetivo é então encontrar os dois parâmetros β0 e β1 de modo que o modelo linear se ajuste bem aos dados. Para isso vamos utilizar um método chamado de minimos quadrados."
   ]
  },
  {
   "cell_type": "markdown",
   "id": "e649ebd1",
   "metadata": {},
   "source": [
    "- βˆ1 = (xi − x¯)(yi − y¯)/(xi − x¯)2 \n",
    "- βˆ0 = ¯y − βˆ1x"
   ]
  },
  {
   "cell_type": "markdown",
   "id": "6c82711b",
   "metadata": {},
   "source": [
    "## Assessing the Accuracy of the Coefcient Estimates "
   ]
  },
  {
   "cell_type": "markdown",
   "id": "361fa4e6",
   "metadata": {},
   "source": [
    "Assumimos que a verdadeira relação entre X e Y assume a forma Y = f(X) + e para alguma função desconhecida f, onde \"e\" é um termo de erro aleatório de média zero. Se f deve ser aproximado por uma função linear, então podemos escrever essa relação como:\n",
    "- Y = β0 + β1X + e"
   ]
  },
  {
   "cell_type": "markdown",
   "id": "5a916e71",
   "metadata": {},
   "source": [
    "Uma pergunta natural quando estamos estimando por exemplo a média populacional µ através da média amostral ^µ é a acurácia. \n",
    "- Vemos isso através:\n",
    "Var(ˆµ) = SE(ˆµ)^2= σ2/n\n"
   ]
  },
  {
   "cell_type": "markdown",
   "id": "289368d4",
   "metadata": {},
   "source": [
    "Para pegar os erros padrão associados a β0 e β1, usamos a seguinte formula:"
   ]
  },
  {
   "cell_type": "code",
   "execution_count": 5,
   "id": "f0fc7898",
   "metadata": {},
   "outputs": [
    {
     "data": {
      "image/png": "[encoded data removed]",
      "text/plain": [
       "<PIL.PngImagePlugin.PngImageFile image mode=RGBA size=877x110>"
      ]
     },
     "execution_count": 5,
     "metadata": {},
     "output_type": "execute_result"
    }
   ],
   "source": [
    "from PIL import Image\n",
    "erro = Image.open('erro-padrao.png')\n",
    "erro"
   ]
  },
  {
   "cell_type": "markdown",
   "id": "cdd4743a",
   "metadata": {},
   "source": [
    "O intervalo de confiança é uma medida estatística que nos ajuda a estimar um parâmetro desconhecido (como o coeficiente de regressão β1) com base em uma amostra de dados. Para lidar com essa incerteza, calculamos um intervalo de confiança para o coeficiente β1. Esse intervalo é construído a partir dos dados amostrais e permite que afirmemos com 95% de confiança (por exemplo) que o intervalo contém o verdadeiro valor do coeficiente de regressão na população."
   ]
  },
  {
   "cell_type": "markdown",
   "id": "fc8f9292",
   "metadata": {},
   "source": [
    "Para regressão linear 95% de confiança para β1 usa essa fórmula:^β1 ± 2 · SE(^β1)\n"
   ]
  },
  {
   "cell_type": "markdown",
   "id": "196a6f79",
   "metadata": {},
   "source": [
    "Ou seja, há aproximadamente 95% de chance de que o intervalo: βˆ1 − 2 · SE(βˆ1), βˆ1 + 2 · SE(βˆ1)"
   ]
  },
  {
   "cell_type": "markdown",
   "id": "d777879c",
   "metadata": {},
   "source": [
    "Valor-t (t-statistic):\n",
    "O valor-t é uma medida estatística que calcula o número de desvios padrão que o coeficiente de regressão βˆ1 está afastado do valor zero (sem efeito) na população. É uma estatística importante usada no teste de hipótese para avaliar se há uma relação significativa entre a variável preditora (X) e a variável de resposta (Y).\n",
    "\n",
    "A fórmula para o valor-t é dada por:\n",
    "\n",
    "t = (βˆ1 - 0) / SE(βˆ1)\n",
    "\n",
    "Onde:\n",
    "\n",
    "βˆ1 é o coeficiente de regressão estimado para a variável preditora X na amostra,\n",
    "0 é o valor hipotético da população que queremos testar (normalmente, se não há relação, espera-se que seja zero), e\n",
    "SE(βˆ1) é o erro padrão do coeficiente de regressão βˆ1, que mede a variabilidade estimada do coeficiente na população.\n",
    "P-valor:\n",
    "O p-valor é uma medida estatística que representa a probabilidade de observar um valor igual ou mais extremo do valor-t sob a hipótese nula de que não há relação entre X e Y (ou seja, β1 = 0). Em outras palavras, o p-valor nos diz a probabilidade de obter um valor-t tão extremo (ou mais extremo) do que o observado, puramente por acaso, se não houver associação real entre X e Y.\n",
    "\n",
    "Se o p-valor for muito pequeno (geralmente menor que o nível de significância escolhido, como 0,05), isso sugere que é improvável que a associação observada entre X e Y seja devida ao acaso. Nesse caso, podemos rejeitar a hipótese nula (não há relação entre X e Y) e inferir que há uma associação significativa entre as variáveis.\n",
    "\n",
    "Em resumo, o valor-t nos diz o quão grande é o efeito do preditor na resposta, enquanto o p-valor nos diz a probabilidade de obter esse efeito (ou um efeito mais extremo) puramente por acaso. Se o p-valor for pequeno, podemos concluir que há uma associação significativa entre X e Y, e rejeitamos a ideia de que não há relação entre elas. Por outro lado, se o p-valor for grande, não temos evidências suficientes para afirmar que há uma relação significativa."
   ]
  },
  {
   "cell_type": "markdown",
   "id": "f7d536f0",
   "metadata": {},
   "source": [
    "## RSE"
   ]
  },
  {
   "cell_type": "code",
   "execution_count": 3,
   "id": "b68096e8",
   "metadata": {},
   "outputs": [
    {
     "data": {
      "image/png": "[encoded data removed]",
      "text/plain": [
       "<PIL.PngImagePlugin.PngImageFile image mode=P size=424x119>"
      ]
     },
     "execution_count": 3,
     "metadata": {},
     "output_type": "execute_result"
    }
   ],
   "source": [
    "from PIL import Image\n",
    "image = Image.open('RSE.png')\n",
    "image"
   ]
  },
  {
   "cell_type": "markdown",
   "id": "9f6338a1",
   "metadata": {},
   "source": [
    "\n",
    "- n é o número de observações no conjunto de dados.\n",
    "\n",
    "- p é o número de preditores (variáveis independentes) no modelo.\n",
    "\n",
    "- yi é o valor observado da resposta na i-ésima observação.\n",
    "\n",
    "- y ^i é o valor previsto da resposta na i-ésima observação, obtido através do modelo"
   ]
  },
  {
   "cell_type": "markdown",
   "id": "fe620e53",
   "metadata": {},
   "source": [
    "O RSE (Root Mean Square Error) é uma métrica utilizada para avaliar a qualidade do ajuste de um modelo de regressão aos dados. Ele mede a dispersão dos resíduos do modelo, ou seja, a diferença entre os valores observados e os valores previstos pelo modelo."
   ]
  },
  {
   "cell_type": "markdown",
   "id": "fede5ded",
   "metadata": {},
   "source": [
    "## Other Considerations in the Regression Model"
   ]
  },
  {
   "cell_type": "markdown",
   "id": "03f0abfe",
   "metadata": {},
   "source": [
    "### Qualitative Predictors"
   ]
  },
  {
   "cell_type": "markdown",
   "id": "dcb10a46",
   "metadata": {},
   "source": [
    "Em regressão linear, até agora, assumimos que todas as variáveis do nosso modelo são quantitativas. Porém, na prática, isso nem sempre é verdade; muitas vezes, alguns preditores são qualitativos."
   ]
  },
  {
   "cell_type": "markdown",
   "id": "cd334a0a",
   "metadata": {},
   "source": [
    "Em regressão linear, até agora, assumimos que todas as variáveis do nosso modelo são quantitativas. Porém, na prática, isso nem sempre é verdade; muitas vezes, alguns preditores são qualitativos."
   ]
  },
  {
   "cell_type": "markdown",
   "id": "57a65102",
   "metadata": {},
   "source": [
    "### Extensions of the Linear Model"
   ]
  },
  {
   "cell_type": "markdown",
   "id": "882a4603",
   "metadata": {},
   "source": [
    "O modelo de regressão linear padrão fornece resultados interpretáveis e funciona bastante bem em muitos problemas do mundo real. No entanto, ele faz várias suposições altamente restritivas que são frequentemente violadas na prática. Duas das suposições mais importantes afirmam que a relação entre os preditores (variáveis independentes) e a resposta (variável dependente) é aditiva e linear.\n",
    "\n",
    "A suposição de aditividade significa que a associação entre um preditor Xj e a resposta Y não depende dos valores dos outros preditores. Em outras palavras, o efeito de Xj na resposta Y é independente dos valores das outras variáveis independentes.\n",
    "\n",
    "A suposição de linearidade declara que a mudança na resposta Y associada a uma mudança de uma unidade em Xj é constante, independentemente do valor de Xj. Em outras palavras, o efeito do preditor Xj na resposta Y é proporcional e não muda ao longo do espectro dos valores de Xj"
   ]
  },
  {
   "cell_type": "markdown",
   "id": "594ea4f6",
   "metadata": {},
   "source": [
    "### Removing the Additive Assumption"
   ]
  },
  {
   "cell_type": "markdown",
   "id": "988ffea7",
   "metadata": {},
   "source": [
    "Para capturar melhor a interação entre duas variáveis preditoras utilizamos precisamos incluir no modelo uma variável de interação.\n",
    "\n",
    "Ex:\n",
    "- Imagine que estamos interessados em prever o desempenho dos estudantes em uma prova com base em duas variáveis preditoras: o tempo de estudo antes da prova (X1) e a quantidade de horas de sono na noite anterior à prova (X2). Queremos entender como esses dois fatores afetam o desempenho dos estudantes.\n",
    "\n",
    "Inicialmente, poderíamos construir um modelo de regressão linear simples, sem incluir um termo de interação:\n",
    "\n",
    "- Desempenho = β0 + β1 * Tempo de estudo + β2 * Horas de sono + ε\n",
    "\n",
    "Neste modelo, β1 nos dá o efeito médio do tempo de estudo no desempenho, supondo que o número de horas de sono seja o mesmo para todos os estudantes. E β2 nos dá o efeito médio das horas de sono no desempenho, supondo que o tempo de estudo seja o mesmo para todos os estudantes.\n",
    "\n",
    "Agora, vamos considerar a possibilidade de que o efeito do tempo de estudo no desempenho possa depender da quantidade de horas de sono. Por exemplo, pode ser que o tempo de estudo seja mais benéfico quando os estudantes têm uma boa noite de sono, mas tenha pouco efeito quando os estudantes estão privados de sono.\n",
    "\n",
    "Para capturar essa interação, precisamos incluir um termo de interação no modelo. O modelo com o termo de interação é o seguinte:\n",
    "\n",
    "- Desempenho = β0 + β1 * Tempo de estudo + β2 * Horas de sono + β3 * (Tempo de estudo * Horas de sono) + ε\n",
    "\n"
   ]
  },
  {
   "cell_type": "markdown",
   "id": "7ae462c7",
   "metadata": {},
   "source": [
    "Vamos explicar com mais detalhes o conceito de interação entre uma variável quantitativa (como a renda) e uma variável qualitativa (como ser estudante ou não), usando o exemplo do conjunto de dados de Crédito.\n",
    "\n",
    "Suponha que queremos prever o saldo (balance) das contas de crédito de indivíduos com base em duas variáveis: a renda (income) e se a pessoa é estudante ou não (student).\n",
    "\n",
    "Inicialmente, sem considerar um termo de interação, o modelo de regressão linear pode ser escrito da seguinte forma:\n",
    "\n",
    "Para não estudantes:\n",
    "- balance_i ≈ β0 + β1 * income_i\n",
    "\n",
    "Para estudantes:\n",
    "- balance_i ≈ β0 + β2 + β1 * income_i\n",
    "\n",
    "Onde:\n",
    "\n",
    "balance_i é o saldo previsto para o indivíduo i.\n",
    "income_i é a renda do indivíduo i.\n",
    "β0, β1 e β2 são coeficientes a serem estimados pelo modelo.\n",
    "β0 representa o saldo médio para os não estudantes quando a renda é zero.\n",
    "β2 representa o aumento médio no saldo para os estudantes (em relação aos não estudantes) quando a renda é zero.\n",
    "β1 é o coeficiente associado à renda, que representa o aumento médio no saldo para cada unidade de aumento na renda, independente de ser estudante ou não.\n",
    "Agora, vamos considerar a possibilidade de que o efeito da renda sobre o saldo possa ser diferente para estudantes e não estudantes. Ou seja, a relação entre a renda e o saldo pode depender de se a pessoa é ou não estudante.\n",
    "\n",
    "Para capturar essa interação, precisamos incluir um termo de interação no modelo. O modelo com o termo de interação é o seguinte:\n",
    "\n",
    "- balance_i ≈ β0 + β1 * income_i + β2 * student_i + β3 * (income_i * student_i)\n",
    "\n",
    "Aqui, student_i é uma variável indicadora que assume o valor de 1 se o indivíduo i é estudante e 0 se não for. β3 é o coeficiente de interação entre a renda e o status de estudante.\n",
    "\n",
    "Interpretação com o termo de interação:\n",
    "A inclusão do termo de interação permite que o efeito da renda na variável de resposta (saldo) seja diferente para estudantes e não estudantes. Se β3 for positivo, isso indicaria que o efeito da renda sobre o saldo é maior para estudantes em comparação com não estudantes. Se β3 for negativo, isso indicaria que o efeito da renda é menor para estudantes em comparação com não estudantes.\n",
    "\n",
    "Em resumo, o termo de interação entre a renda (variável quantitativa) e o status de estudante (variável qualitativa) permite que o modelo capture como a relação entre a renda e o saldo varia com base em se a pessoa é ou não estudante. Isso torna o modelo mais flexível e preciso para prever o saldo das contas de crédito, levando em conta as nuances das relações entre as variáveis. A inclusão de interações é importante sempre que houver suspeita de que os efeitos de diferentes variáveis podem se combinar de maneira não linear ou dependente das categorias de outras variáveis."
   ]
  },
  {
   "cell_type": "markdown",
   "id": "18fc66ff",
   "metadata": {},
   "source": [
    "## F-Statistics"
   ]
  },
  {
   "cell_type": "markdown",
   "id": "2bce14b4",
   "metadata": {},
   "source": [
    "O F-statistic é uma medida estatística usada em análise de regressão para avaliar se um modelo de regressão é estatisticamente significativo. Em outras palavras, o F-statistic testa se pelo menos uma das variáveis preditoras tem um efeito significativo na variável de resposta."
   ]
  },
  {
   "cell_type": "markdown",
   "id": "514cb75a",
   "metadata": {},
   "source": [
    "A variância explicada pelo modelo (também conhecida como SST, Sum of Squares Total) representa a variação total dos valores da resposta Y em relação à sua média. Em outras palavras, é a soma dos quadrados das diferenças entre cada valor de Y e a média de Y. Podemos pensar na variância explicada como a variação total de Y que nosso modelo está tentando explicar.\n",
    "\n",
    "A variância não explicada (também conhecida como SSR, Sum of Squares Residual) representa a variação não capturada pelo modelo, ou seja, a diferença entre os valores observados de Y e os valores previstos pelo modelo. É a soma dos quadrados das diferenças entre os valores observados de Y e os valores previstos pela linha de regressão.\n",
    "\n",
    "Quando calculamos o F-statistic, estamos comparando a variância explicada (SST - SSR) com a variância não explicada (SSR). O F-statistic é uma razão entre essas duas variâncias, e nos permite testar se o modelo é estatisticamente significativo, ou seja, se ele realmente consegue explicar a variação nos dados.\n",
    "\n",
    "Se o F-statistic for grande, indica que a variância explicada é significativamente maior do que a variância não explicada, o que sugere que o modelo está capturando uma quantidade significativa da variação em Y. Nesse caso, podemos rejeitar a hipótese nula (H0) de que todos os coeficientes de regressão são zero e concluir que o modelo é estatisticamente significativo."
   ]
  },
  {
   "cell_type": "markdown",
   "id": "ba8a91ce",
   "metadata": {},
   "source": [
    "## Pontencial Problems"
   ]
  },
  {
   "cell_type": "markdown",
   "id": "bf6c191c",
   "metadata": {},
   "source": [
    "lems may occur. Most common among these are the following:\n",
    "1. Non-linearity of the response-predictor relationships.\n",
    "2. Correlation of error terms.\n",
    "3. Non-constant variance of error terms.\n",
    "4. Outliers.\n",
    "5. High-leverage points.\n",
    "6. Collinearity."
   ]
  },
  {
   "cell_type": "markdown",
   "id": "6f680ea5",
   "metadata": {},
   "source": [
    "A regressão linear nos diz que existe um linha que relaciona as variáveis preditoras a nossa var resposta. Se não tivermos uma relaão linear, então todas as conclusões desenhadas precisam ser suspensas. Além disso, a acurácia do nosso modelo será extremamente baixa.\n",
    "\n",
    "Residual plot são essenciais para identificar a não linearidade."
   ]
  },
  {
   "cell_type": "markdown",
   "id": "1696428a",
   "metadata": {},
   "source": [
    "\"high leverage points\" (pontos com alto nível de alavancagem) em modelos de regressão.\n",
    "\n",
    "Em análise de regressão, outliers são observações com valores incomuns para a variável resposta (yi) em relação ao valor do preditor (xi). No entanto, além dos outliers, também precisamos prestar atenção aos pontos com alto nível de alavancagem.\n",
    "\n",
    "O que são pontos com alto nível de alavancagem?\n",
    "Pontos com alto nível de alavancagem são observações que têm valores incomuns para o preditor (xi). Eles se destacam dos demais pontos devido a um valor extremo ou incomum na variável preditora. Por exemplo, imagine que estamos analisando a relação entre a altura e o peso de várias pessoas. Se tivermos uma pessoa com um peso muito maior ou menor do que a maioria das outras pessoas, essa observação terá um alto nível de alavancagem.\n",
    "\n",
    "Qual é o impacto dos pontos com alto nível de alavancagem?\n",
    "Esses pontos podem ter um efeito considerável na estimativa da linha de regressão. Se removermos um ponto com alto nível de alavancagem, a linha de regressão pode mudar significativamente. Essa influência é mais pronunciada do que a de um outlier típico.\n",
    "\n",
    "Como identificar pontos com alto nível de alavancagem?\n",
    "Em uma regressão linear simples, onde temos apenas um preditor, é relativamente fácil identificar pontos com alto nível de alavancagem, pois podemos olhar para os valores incomuns do preditor.\n",
    "\n",
    "No entanto, em uma regressão linear múltipla, com vários preditores, pode ser mais complicado identificar pontos com alto nível de alavancagem. Pode haver observações cujos valores para cada preditor individualmente parecem normais, mas quando consideramos todos os preditores juntos, essa observação se destaca.\n",
    "\n",
    "Como quantificar o nível de alavancagem?\n",
    "Para quantificar o nível de alavancagem de uma observação, podemos calcular a estatística de alavancagem (hi). Quanto maior o valor de hi, maior o nível de alavancagem da observação.\n",
    "\n",
    "No caso de uma regressão linear simples, a fórmula da estatística de alavancagem é: hi = 1/n + (xi - x̄)² / ∑(xi - x̄)², onde n é o número total de observações, xi é o valor do preditor para a observação i e x̄ é a média dos valores dos preditores.\n",
    "\n",
    "Em resumo, pontos com alto nível de alavancagem são observações com valores incomuns para os preditores. Eles podem ter um impacto significativo na estimativa da linha de regressão e, portanto, é importante identificá-los para garantir a robustez do modelo. Essa identificação é especialmente importante em modelos de regressão múltipla, onde o efeito de alavancagem pode ser mais sutil."
   ]
  },
  {
   "cell_type": "markdown",
   "id": "106e87bb",
   "metadata": {},
   "source": [
    "## Comparison of Linear Regression with K-Nearest Neighbors"
   ]
  },
  {
   "cell_type": "markdown",
   "id": "2e886528",
   "metadata": {},
   "source": [
    "**Abordagem Paramétrica (Regressão Linear de Mínimos Quadrados):**\n",
    "\n",
    "Na abordagem paramétrica, assumimos uma forma específica para a relação entre a variável de resposta (Y) e as variáveis preditoras (X). Por exemplo, na regressão linear, assumimos que a relação é linear, ou seja, Y varia linearmente com as variáveis X.\n",
    "Para ajustar o modelo, usamos métodos como a regressão de mínimos quadrados, que tenta encontrar os coeficientes que melhor se ajustam aos dados, minimizando a soma dos quadrados das diferenças entre as previsões do modelo e os valores reais dos dados.\n",
    "A abordagem paramétrica é geralmente mais simples e mais rápida de ajustar aos dados, pois envolve estimar apenas alguns parâmetros do modelo.\n",
    "Ela funciona melhor quando a forma verdadeira da relação entre Y e X é de fato próxima à forma assumida pelo modelo. Se o modelo linear for uma boa aproximação para a verdadeira relação, então a regressão linear de mínimos quadrados geralmente terá bom desempenho.\n",
    "\n",
    "\n",
    "\n",
    "**Abordagem Não Paramétrica (Regressão KNN):**\n",
    "\n",
    "\n",
    "Na abordagem não paramétrica, não fazemos nenhuma suposição sobre a forma da relação entre Y e X. Em vez disso, deixamos que os dados determinem a relação.\n",
    "O método KNN (K-Nearest Neighbors) é um exemplo de abordagem não paramétrica. Para fazer uma previsão em um novo ponto de dados, o KNN procura pelos K pontos mais próximos no conjunto de treinamento e calcula a média ou a mediana de suas respostas para fazer a previsão.\n",
    "A abordagem não paramétrica é mais flexível, pois não faz suposições sobre a forma da relação. Portanto, pode se ajustar a dados com padrões complexos e não lineares.\n",
    "No entanto, a abordagem não paramétrica pode sofrer de alta variância, especialmente quando K é pequeno. Isso significa que as previsões podem variar muito para diferentes conjuntos de treinamento, resultando em uma instabilidade nas previsões.\n",
    "A abordagem não paramétrica pode ser mais adequada quando a forma verdadeira da relação entre Y e X é complexa e desconhecida, ou quando os dados têm padrões não lineares que não podem ser bem ajustados por uma forma paramétrica simples.\n",
    "Em resumo, a abordagem paramétrica como a regressão linear de mínimos quadrados é mais adequada quando a forma verdadeira da relação é aproximadamente linear, e a abordagem não paramétrica como o KNN é mais adequada quando a forma verdadeira é desconhecida ou complexa e não pode ser bem aproximada por um modelo linear simples. A escolha entre os dois métodos dependerá da natureza dos dados e das suposições sobre a relação entre as variáveis."
   ]
  }
 ],
 "metadata": {
  "kernelspec": {
   "display_name": "Python 3 (ipykernel)",
   "language": "python",
   "name": "python3"
  },
  "language_info": {
   "codemirror_mode": {
    "name": "ipython",
    "version": 3
   },
   "file_extension": ".py",
   "mimetype": "text/x-python",
   "name": "python",
   "nbconvert_exporter": "python",
   "pygments_lexer": "ipython3",
   "version": "3.11.3"
  }
 },
 "nbformat": 4,
 "nbformat_minor": 5
}
